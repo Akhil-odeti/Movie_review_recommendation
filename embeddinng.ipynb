{
 "cells": [
  {
   "cell_type": "code",
   "execution_count": 1,
   "metadata": {},
   "outputs": [],
   "source": [
    "from tensorflow.keras.preprocessing.text import one_hot"
   ]
  },
  {
   "cell_type": "code",
   "execution_count": 2,
   "metadata": {},
   "outputs": [],
   "source": [
    "sent = [\"the glass of milk\",\n",
    "        \"the glass of juice\",\n",
    "        \"the cup of tea\",\n",
    "        \"I am a good boy\",\n",
    "        \"I am a good developer\",\n",
    "        \"understand the meaning of words\",\n",
    "        \"your videos are good\",]"
   ]
  },
  {
   "cell_type": "code",
   "execution_count": 3,
   "metadata": {},
   "outputs": [
    {
     "data": {
      "text/plain": [
       "['the glass of milk',\n",
       " 'the glass of juice',\n",
       " 'the cup of tea',\n",
       " 'I am a good boy',\n",
       " 'I am a good developer',\n",
       " 'understand the meaning of words',\n",
       " 'your videos are good']"
      ]
     },
     "execution_count": 3,
     "metadata": {},
     "output_type": "execute_result"
    }
   ],
   "source": [
    "sent"
   ]
  },
  {
   "cell_type": "markdown",
   "metadata": {},
   "source": [
    "### In the above sent list there is some 4 and some 5 words in a sentance , here we have to convert into same number of words in each line.then only its possiable to get train by RNN"
   ]
  },
  {
   "cell_type": "markdown",
   "metadata": {},
   "source": [
    "## Define the vocabulary size "
   ]
  },
  {
   "cell_type": "code",
   "execution_count": 4,
   "metadata": {},
   "outputs": [],
   "source": [
    "voc_size = 10000"
   ]
  },
  {
   "cell_type": "code",
   "execution_count": 5,
   "metadata": {},
   "outputs": [
    {
     "data": {
      "text/plain": [
       "[[3231, 7780, 9953, 7878],\n",
       " [3231, 7780, 9953, 1057],\n",
       " [3231, 9657, 9953, 3047],\n",
       " [7287, 8518, 4987, 7014, 9161],\n",
       " [7287, 8518, 4987, 7014, 3397],\n",
       " [1027, 3231, 5500, 9953, 1864],\n",
       " [7315, 5630, 9729, 7014]]"
      ]
     },
     "execution_count": 5,
     "metadata": {},
     "output_type": "execute_result"
    }
   ],
   "source": [
    "### One Hot representation\n",
    "one_hot_repr = [one_hot(words,voc_size) for words in sent]\n",
    "one_hot_repr"
   ]
  },
  {
   "cell_type": "code",
   "execution_count": 6,
   "metadata": {},
   "outputs": [],
   "source": [
    "## word Embedding Representation \n",
    "from tensorflow.keras.layers import Embedding\n",
    "# from tensorflow.keras.processing.sequence import pad_sequences\n",
    "from tensorflow.keras.utils import pad_sequences\n",
    "from tensorflow.keras.models import Sequential"
   ]
  },
  {
   "cell_type": "code",
   "execution_count": 7,
   "metadata": {},
   "outputs": [],
   "source": [
    "import numpy as np"
   ]
  },
  {
   "cell_type": "code",
   "execution_count": 8,
   "metadata": {},
   "outputs": [
    {
     "name": "stdout",
     "output_type": "stream",
     "text": [
      "[[   0    0 3231 7780 9953 7878]\n",
      " [   0    0 3231 7780 9953 1057]\n",
      " [   0    0 3231 9657 9953 3047]\n",
      " [   0 7287 8518 4987 7014 9161]\n",
      " [   0 7287 8518 4987 7014 3397]\n",
      " [   0 1027 3231 5500 9953 1864]\n",
      " [   0    0 7315 5630 9729 7014]]\n"
     ]
    }
   ],
   "source": [
    "# setting the maximum words in that sent\n",
    "# \"pre\" is used to add number of 0's in which sentance have less words  \n",
    "# if we use \"post\" we get 0's at last\n",
    "sent_length = 6\n",
    "embedded_docs = pad_sequences(one_hot_repr,padding=\"pre\",maxlen=sent_length)\n",
    "print(embedded_docs)"
   ]
  },
  {
   "cell_type": "code",
   "execution_count": 9,
   "metadata": {},
   "outputs": [],
   "source": [
    "# feature representation \n",
    "dim = 10"
   ]
  },
  {
   "cell_type": "code",
   "execution_count": 10,
   "metadata": {},
   "outputs": [
    {
     "name": "stderr",
     "output_type": "stream",
     "text": [
      "d:\\DL_project\\envvv\\Lib\\site-packages\\keras\\src\\layers\\core\\embedding.py:90: UserWarning: Argument `input_length` is deprecated. Just remove it.\n",
      "  warnings.warn(\n"
     ]
    }
   ],
   "source": [
    "model = Sequential()\n",
    "model.add(Embedding(input_dim=voc_size,output_dim = dim,input_length = sent_length))\n",
    "model.compile('adam','mse')"
   ]
  },
  {
   "cell_type": "code",
   "execution_count": 11,
   "metadata": {},
   "outputs": [
    {
     "data": {
      "text/html": [
       "<pre style=\"white-space:pre;overflow-x:auto;line-height:normal;font-family:Menlo,'DejaVu Sans Mono',consolas,'Courier New',monospace\"><span style=\"font-weight: bold\">Model: \"sequential\"</span>\n",
       "</pre>\n"
      ],
      "text/plain": [
       "\u001b[1mModel: \"sequential\"\u001b[0m\n"
      ]
     },
     "metadata": {},
     "output_type": "display_data"
    },
    {
     "data": {
      "text/html": [
       "<pre style=\"white-space:pre;overflow-x:auto;line-height:normal;font-family:Menlo,'DejaVu Sans Mono',consolas,'Courier New',monospace\">┏━━━━━━━━━━━━━━━━━━━━━━━━━━━━━━━━━┳━━━━━━━━━━━━━━━━━━━━━━━━┳━━━━━━━━━━━━━━━┓\n",
       "┃<span style=\"font-weight: bold\"> Layer (type)                    </span>┃<span style=\"font-weight: bold\"> Output Shape           </span>┃<span style=\"font-weight: bold\">       Param # </span>┃\n",
       "┡━━━━━━━━━━━━━━━━━━━━━━━━━━━━━━━━━╇━━━━━━━━━━━━━━━━━━━━━━━━╇━━━━━━━━━━━━━━━┩\n",
       "│ embedding (<span style=\"color: #0087ff; text-decoration-color: #0087ff\">Embedding</span>)           │ ?                      │   <span style=\"color: #00af00; text-decoration-color: #00af00\">0</span> (unbuilt) │\n",
       "└─────────────────────────────────┴────────────────────────┴───────────────┘\n",
       "</pre>\n"
      ],
      "text/plain": [
       "┏━━━━━━━━━━━━━━━━━━━━━━━━━━━━━━━━━┳━━━━━━━━━━━━━━━━━━━━━━━━┳━━━━━━━━━━━━━━━┓\n",
       "┃\u001b[1m \u001b[0m\u001b[1mLayer (type)                   \u001b[0m\u001b[1m \u001b[0m┃\u001b[1m \u001b[0m\u001b[1mOutput Shape          \u001b[0m\u001b[1m \u001b[0m┃\u001b[1m \u001b[0m\u001b[1m      Param #\u001b[0m\u001b[1m \u001b[0m┃\n",
       "┡━━━━━━━━━━━━━━━━━━━━━━━━━━━━━━━━━╇━━━━━━━━━━━━━━━━━━━━━━━━╇━━━━━━━━━━━━━━━┩\n",
       "│ embedding (\u001b[38;5;33mEmbedding\u001b[0m)           │ ?                      │   \u001b[38;5;34m0\u001b[0m (unbuilt) │\n",
       "└─────────────────────────────────┴────────────────────────┴───────────────┘\n"
      ]
     },
     "metadata": {},
     "output_type": "display_data"
    },
    {
     "data": {
      "text/html": [
       "<pre style=\"white-space:pre;overflow-x:auto;line-height:normal;font-family:Menlo,'DejaVu Sans Mono',consolas,'Courier New',monospace\"><span style=\"font-weight: bold\"> Total params: </span><span style=\"color: #00af00; text-decoration-color: #00af00\">0</span> (0.00 B)\n",
       "</pre>\n"
      ],
      "text/plain": [
       "\u001b[1m Total params: \u001b[0m\u001b[38;5;34m0\u001b[0m (0.00 B)\n"
      ]
     },
     "metadata": {},
     "output_type": "display_data"
    },
    {
     "data": {
      "text/html": [
       "<pre style=\"white-space:pre;overflow-x:auto;line-height:normal;font-family:Menlo,'DejaVu Sans Mono',consolas,'Courier New',monospace\"><span style=\"font-weight: bold\"> Trainable params: </span><span style=\"color: #00af00; text-decoration-color: #00af00\">0</span> (0.00 B)\n",
       "</pre>\n"
      ],
      "text/plain": [
       "\u001b[1m Trainable params: \u001b[0m\u001b[38;5;34m0\u001b[0m (0.00 B)\n"
      ]
     },
     "metadata": {},
     "output_type": "display_data"
    },
    {
     "data": {
      "text/html": [
       "<pre style=\"white-space:pre;overflow-x:auto;line-height:normal;font-family:Menlo,'DejaVu Sans Mono',consolas,'Courier New',monospace\"><span style=\"font-weight: bold\"> Non-trainable params: </span><span style=\"color: #00af00; text-decoration-color: #00af00\">0</span> (0.00 B)\n",
       "</pre>\n"
      ],
      "text/plain": [
       "\u001b[1m Non-trainable params: \u001b[0m\u001b[38;5;34m0\u001b[0m (0.00 B)\n"
      ]
     },
     "metadata": {},
     "output_type": "display_data"
    }
   ],
   "source": [
    "model.summary()"
   ]
  },
  {
   "cell_type": "code",
   "execution_count": 12,
   "metadata": {},
   "outputs": [
    {
     "data": {
      "text/html": [
       "<pre style=\"white-space:pre;overflow-x:auto;line-height:normal;font-family:Menlo,'DejaVu Sans Mono',consolas,'Courier New',monospace\"><span style=\"font-weight: bold\">Model: \"sequential\"</span>\n",
       "</pre>\n"
      ],
      "text/plain": [
       "\u001b[1mModel: \"sequential\"\u001b[0m\n"
      ]
     },
     "metadata": {},
     "output_type": "display_data"
    },
    {
     "data": {
      "text/html": [
       "<pre style=\"white-space:pre;overflow-x:auto;line-height:normal;font-family:Menlo,'DejaVu Sans Mono',consolas,'Courier New',monospace\">┏━━━━━━━━━━━━━━━━━━━━━━━━━━━━━━━━━┳━━━━━━━━━━━━━━━━━━━━━━━━┳━━━━━━━━━━━━━━━┓\n",
       "┃<span style=\"font-weight: bold\"> Layer (type)                    </span>┃<span style=\"font-weight: bold\"> Output Shape           </span>┃<span style=\"font-weight: bold\">       Param # </span>┃\n",
       "┡━━━━━━━━━━━━━━━━━━━━━━━━━━━━━━━━━╇━━━━━━━━━━━━━━━━━━━━━━━━╇━━━━━━━━━━━━━━━┩\n",
       "│ embedding (<span style=\"color: #0087ff; text-decoration-color: #0087ff\">Embedding</span>)           │ (<span style=\"color: #00af00; text-decoration-color: #00af00\">7</span>, <span style=\"color: #00af00; text-decoration-color: #00af00\">6</span>, <span style=\"color: #00af00; text-decoration-color: #00af00\">10</span>)             │       <span style=\"color: #00af00; text-decoration-color: #00af00\">100,000</span> │\n",
       "└─────────────────────────────────┴────────────────────────┴───────────────┘\n",
       "</pre>\n"
      ],
      "text/plain": [
       "┏━━━━━━━━━━━━━━━━━━━━━━━━━━━━━━━━━┳━━━━━━━━━━━━━━━━━━━━━━━━┳━━━━━━━━━━━━━━━┓\n",
       "┃\u001b[1m \u001b[0m\u001b[1mLayer (type)                   \u001b[0m\u001b[1m \u001b[0m┃\u001b[1m \u001b[0m\u001b[1mOutput Shape          \u001b[0m\u001b[1m \u001b[0m┃\u001b[1m \u001b[0m\u001b[1m      Param #\u001b[0m\u001b[1m \u001b[0m┃\n",
       "┡━━━━━━━━━━━━━━━━━━━━━━━━━━━━━━━━━╇━━━━━━━━━━━━━━━━━━━━━━━━╇━━━━━━━━━━━━━━━┩\n",
       "│ embedding (\u001b[38;5;33mEmbedding\u001b[0m)           │ (\u001b[38;5;34m7\u001b[0m, \u001b[38;5;34m6\u001b[0m, \u001b[38;5;34m10\u001b[0m)             │       \u001b[38;5;34m100,000\u001b[0m │\n",
       "└─────────────────────────────────┴────────────────────────┴───────────────┘\n"
      ]
     },
     "metadata": {},
     "output_type": "display_data"
    },
    {
     "data": {
      "text/html": [
       "<pre style=\"white-space:pre;overflow-x:auto;line-height:normal;font-family:Menlo,'DejaVu Sans Mono',consolas,'Courier New',monospace\"><span style=\"font-weight: bold\"> Total params: </span><span style=\"color: #00af00; text-decoration-color: #00af00\">100,000</span> (390.62 KB)\n",
       "</pre>\n"
      ],
      "text/plain": [
       "\u001b[1m Total params: \u001b[0m\u001b[38;5;34m100,000\u001b[0m (390.62 KB)\n"
      ]
     },
     "metadata": {},
     "output_type": "display_data"
    },
    {
     "data": {
      "text/html": [
       "<pre style=\"white-space:pre;overflow-x:auto;line-height:normal;font-family:Menlo,'DejaVu Sans Mono',consolas,'Courier New',monospace\"><span style=\"font-weight: bold\"> Trainable params: </span><span style=\"color: #00af00; text-decoration-color: #00af00\">100,000</span> (390.62 KB)\n",
       "</pre>\n"
      ],
      "text/plain": [
       "\u001b[1m Trainable params: \u001b[0m\u001b[38;5;34m100,000\u001b[0m (390.62 KB)\n"
      ]
     },
     "metadata": {},
     "output_type": "display_data"
    },
    {
     "data": {
      "text/html": [
       "<pre style=\"white-space:pre;overflow-x:auto;line-height:normal;font-family:Menlo,'DejaVu Sans Mono',consolas,'Courier New',monospace\"><span style=\"font-weight: bold\"> Non-trainable params: </span><span style=\"color: #00af00; text-decoration-color: #00af00\">0</span> (0.00 B)\n",
       "</pre>\n"
      ],
      "text/plain": [
       "\u001b[1m Non-trainable params: \u001b[0m\u001b[38;5;34m0\u001b[0m (0.00 B)\n"
      ]
     },
     "metadata": {},
     "output_type": "display_data"
    }
   ],
   "source": [
    "import numpy as np\n",
    "model(np.array(embedded_docs))\n",
    "model.summary()\n"
   ]
  },
  {
   "cell_type": "code",
   "execution_count": 13,
   "metadata": {},
   "outputs": [
    {
     "name": "stdout",
     "output_type": "stream",
     "text": [
      "\u001b[1m1/1\u001b[0m \u001b[32m━━━━━━━━━━━━━━━━━━━━\u001b[0m\u001b[37m\u001b[0m \u001b[1m0s\u001b[0m 237ms/step\n"
     ]
    },
    {
     "data": {
      "text/plain": [
       "array([[[-0.04167787, -0.04363951, -0.00330335, -0.00953857,\n",
       "         -0.03316798,  0.01859939,  0.03509618, -0.02415799,\n",
       "          0.01365766, -0.03513557],\n",
       "        [-0.04167787, -0.04363951, -0.00330335, -0.00953857,\n",
       "         -0.03316798,  0.01859939,  0.03509618, -0.02415799,\n",
       "          0.01365766, -0.03513557],\n",
       "        [-0.04488099,  0.00044056,  0.00469881,  0.02169276,\n",
       "          0.01929224,  0.01963811,  0.0305552 ,  0.03006304,\n",
       "         -0.02553024,  0.04902111],\n",
       "        [-0.02210838, -0.04600128, -0.01953545,  0.00590451,\n",
       "         -0.04137316,  0.0265711 ,  0.00721132,  0.01776012,\n",
       "         -0.04594419,  0.03837873],\n",
       "        [-0.03330108,  0.04359995, -0.03832207,  0.03170177,\n",
       "          0.02097932, -0.03163859,  0.00990622, -0.01990794,\n",
       "          0.0494942 , -0.02877733],\n",
       "        [ 0.01379276,  0.04859653, -0.01674252,  0.00968216,\n",
       "         -0.04827837, -0.03368753, -0.04067133, -0.02014603,\n",
       "          0.01319624,  0.00956569]],\n",
       "\n",
       "       [[-0.04167787, -0.04363951, -0.00330335, -0.00953857,\n",
       "         -0.03316798,  0.01859939,  0.03509618, -0.02415799,\n",
       "          0.01365766, -0.03513557],\n",
       "        [-0.04167787, -0.04363951, -0.00330335, -0.00953857,\n",
       "         -0.03316798,  0.01859939,  0.03509618, -0.02415799,\n",
       "          0.01365766, -0.03513557],\n",
       "        [-0.04488099,  0.00044056,  0.00469881,  0.02169276,\n",
       "          0.01929224,  0.01963811,  0.0305552 ,  0.03006304,\n",
       "         -0.02553024,  0.04902111],\n",
       "        [-0.02210838, -0.04600128, -0.01953545,  0.00590451,\n",
       "         -0.04137316,  0.0265711 ,  0.00721132,  0.01776012,\n",
       "         -0.04594419,  0.03837873],\n",
       "        [-0.03330108,  0.04359995, -0.03832207,  0.03170177,\n",
       "          0.02097932, -0.03163859,  0.00990622, -0.01990794,\n",
       "          0.0494942 , -0.02877733],\n",
       "        [ 0.01775661,  0.02280039, -0.01958215, -0.03489143,\n",
       "          0.03573907, -0.0487422 ,  0.02405846,  0.00149059,\n",
       "         -0.01802509, -0.02535639]],\n",
       "\n",
       "       [[-0.04167787, -0.04363951, -0.00330335, -0.00953857,\n",
       "         -0.03316798,  0.01859939,  0.03509618, -0.02415799,\n",
       "          0.01365766, -0.03513557],\n",
       "        [-0.04167787, -0.04363951, -0.00330335, -0.00953857,\n",
       "         -0.03316798,  0.01859939,  0.03509618, -0.02415799,\n",
       "          0.01365766, -0.03513557],\n",
       "        [-0.04488099,  0.00044056,  0.00469881,  0.02169276,\n",
       "          0.01929224,  0.01963811,  0.0305552 ,  0.03006304,\n",
       "         -0.02553024,  0.04902111],\n",
       "        [-0.0308512 ,  0.02877799,  0.02711586, -0.04683919,\n",
       "         -0.02494488, -0.00023802,  0.01735527, -0.04895443,\n",
       "         -0.0149986 ,  0.00178113],\n",
       "        [-0.03330108,  0.04359995, -0.03832207,  0.03170177,\n",
       "          0.02097932, -0.03163859,  0.00990622, -0.01990794,\n",
       "          0.0494942 , -0.02877733],\n",
       "        [ 0.04051931, -0.04843387, -0.01781242,  0.03953645,\n",
       "          0.04541631,  0.01975643, -0.03913872,  0.02426565,\n",
       "          0.04770979, -0.03396616]],\n",
       "\n",
       "       [[-0.04167787, -0.04363951, -0.00330335, -0.00953857,\n",
       "         -0.03316798,  0.01859939,  0.03509618, -0.02415799,\n",
       "          0.01365766, -0.03513557],\n",
       "        [ 0.00467563, -0.00459469, -0.02345563,  0.00024592,\n",
       "          0.01997327, -0.04176686, -0.03101863, -0.04477927,\n",
       "         -0.02472903,  0.04251504],\n",
       "        [ 0.00035899, -0.0440524 , -0.00633215,  0.01316483,\n",
       "         -0.01954358,  0.03387195,  0.00840235,  0.04636734,\n",
       "         -0.04416933, -0.0002392 ],\n",
       "        [-0.03176165,  0.00020832, -0.04892174, -0.03044152,\n",
       "          0.02634665,  0.02272991, -0.02721943,  0.0347643 ,\n",
       "          0.02533449,  0.03160422],\n",
       "        [-0.0352455 , -0.00810183,  0.00238047, -0.03186115,\n",
       "         -0.0115905 ,  0.04521434, -0.04021161,  0.04908926,\n",
       "          0.04954335,  0.02039529],\n",
       "        [ 0.02630385, -0.04186114,  0.00173496,  0.0237549 ,\n",
       "          0.00419208, -0.01067328, -0.02052256, -0.04633404,\n",
       "          0.04956614,  0.02194532]],\n",
       "\n",
       "       [[-0.04167787, -0.04363951, -0.00330335, -0.00953857,\n",
       "         -0.03316798,  0.01859939,  0.03509618, -0.02415799,\n",
       "          0.01365766, -0.03513557],\n",
       "        [ 0.00467563, -0.00459469, -0.02345563,  0.00024592,\n",
       "          0.01997327, -0.04176686, -0.03101863, -0.04477927,\n",
       "         -0.02472903,  0.04251504],\n",
       "        [ 0.00035899, -0.0440524 , -0.00633215,  0.01316483,\n",
       "         -0.01954358,  0.03387195,  0.00840235,  0.04636734,\n",
       "         -0.04416933, -0.0002392 ],\n",
       "        [-0.03176165,  0.00020832, -0.04892174, -0.03044152,\n",
       "          0.02634665,  0.02272991, -0.02721943,  0.0347643 ,\n",
       "          0.02533449,  0.03160422],\n",
       "        [-0.0352455 , -0.00810183,  0.00238047, -0.03186115,\n",
       "         -0.0115905 ,  0.04521434, -0.04021161,  0.04908926,\n",
       "          0.04954335,  0.02039529],\n",
       "        [-0.02926951,  0.04054284, -0.04702539, -0.04617608,\n",
       "          0.04217355, -0.0141781 ,  0.03104335,  0.01153959,\n",
       "          0.01191605, -0.03009343]],\n",
       "\n",
       "       [[-0.04167787, -0.04363951, -0.00330335, -0.00953857,\n",
       "         -0.03316798,  0.01859939,  0.03509618, -0.02415799,\n",
       "          0.01365766, -0.03513557],\n",
       "        [-0.01286424,  0.01883912,  0.02224069, -0.01650398,\n",
       "         -0.03188743, -0.04783138,  0.03408576, -0.00306619,\n",
       "         -0.02274673,  0.04847279],\n",
       "        [-0.04488099,  0.00044056,  0.00469881,  0.02169276,\n",
       "          0.01929224,  0.01963811,  0.0305552 ,  0.03006304,\n",
       "         -0.02553024,  0.04902111],\n",
       "        [ 0.01232506,  0.02283914,  0.02868975,  0.04900415,\n",
       "          0.02118042, -0.03439431,  0.04535684,  0.0033124 ,\n",
       "         -0.00476661, -0.02658037],\n",
       "        [-0.03330108,  0.04359995, -0.03832207,  0.03170177,\n",
       "          0.02097932, -0.03163859,  0.00990622, -0.01990794,\n",
       "          0.0494942 , -0.02877733],\n",
       "        [ 0.03503804,  0.00432613,  0.00666855, -0.00593119,\n",
       "         -0.03660538, -0.02892357,  0.00257008,  0.02707627,\n",
       "          0.02747576, -0.03041384]],\n",
       "\n",
       "       [[-0.04167787, -0.04363951, -0.00330335, -0.00953857,\n",
       "         -0.03316798,  0.01859939,  0.03509618, -0.02415799,\n",
       "          0.01365766, -0.03513557],\n",
       "        [-0.04167787, -0.04363951, -0.00330335, -0.00953857,\n",
       "         -0.03316798,  0.01859939,  0.03509618, -0.02415799,\n",
       "          0.01365766, -0.03513557],\n",
       "        [-0.03626484,  0.03655995,  0.01207681, -0.00177116,\n",
       "          0.02515215,  0.0443015 , -0.01625018, -0.01100465,\n",
       "         -0.03847845,  0.02836138],\n",
       "        [ 0.01739002, -0.02802931, -0.02542263, -0.03094262,\n",
       "          0.04256653, -0.00928615, -0.02833586, -0.01541676,\n",
       "          0.02999714, -0.03773509],\n",
       "        [ 0.02735624, -0.02071741, -0.02754977,  0.00760921,\n",
       "          0.04963442, -0.02317314, -0.01828884,  0.01661745,\n",
       "         -0.00542821,  0.00605492],\n",
       "        [-0.0352455 , -0.00810183,  0.00238047, -0.03186115,\n",
       "         -0.0115905 ,  0.04521434, -0.04021161,  0.04908926,\n",
       "          0.04954335,  0.02039529]]], dtype=float32)"
      ]
     },
     "execution_count": 13,
     "metadata": {},
     "output_type": "execute_result"
    }
   ],
   "source": [
    "model.predict(embedded_docs)"
   ]
  },
  {
   "cell_type": "code",
   "execution_count": null,
   "metadata": {},
   "outputs": [],
   "source": []
  }
 ],
 "metadata": {
  "kernelspec": {
   "display_name": "myyenv",
   "language": "python",
   "name": "python3"
  },
  "language_info": {
   "codemirror_mode": {
    "name": "ipython",
    "version": 3
   },
   "file_extension": ".py",
   "mimetype": "text/x-python",
   "name": "python",
   "nbconvert_exporter": "python",
   "pygments_lexer": "ipython3",
   "version": "3.10.15"
  }
 },
 "nbformat": 4,
 "nbformat_minor": 2
}
