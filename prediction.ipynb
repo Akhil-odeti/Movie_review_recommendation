{
 "cells": [
  {
   "cell_type": "code",
   "execution_count": 1,
   "metadata": {},
   "outputs": [],
   "source": [
    "import numpy as np\n",
    "import tensorflow as tf\n",
    "from tensorflow.keras.datasets import imdb\n",
    "from tensorflow.keras.preprocessing import sequence\n",
    "from tensorflow.keras.models import Sequential\n",
    "from tensorflow.keras.layers import Embedding,SimpleRNN,Dense,Dropout"
   ]
  },
  {
   "cell_type": "code",
   "execution_count": 2,
   "metadata": {},
   "outputs": [],
   "source": [
    "## mapping of words index back to words ( for ur understanding)\n",
    "word_index =imdb.get_word_index()\n",
    "reverse_word_index = {value:key for key,value in word_index.items()}\n"
   ]
  },
  {
   "cell_type": "code",
   "execution_count": 3,
   "metadata": {},
   "outputs": [],
   "source": [
    "from keras.models import load_model\n"
   ]
  },
  {
   "cell_type": "code",
   "execution_count": 4,
   "metadata": {},
   "outputs": [],
   "source": [
    "from tensorflow.keras.models import load_model\n",
    "\n",
    "model = load_model(\"simple_rnn_imdb.h5\", compile=False)"
   ]
  },
  {
   "cell_type": "code",
   "execution_count": 5,
   "metadata": {},
   "outputs": [
    {
     "data": {
      "text/html": [
       "<pre style=\"white-space:pre;overflow-x:auto;line-height:normal;font-family:Menlo,'DejaVu Sans Mono',consolas,'Courier New',monospace\"><span style=\"font-weight: bold\">Model: \"sequential\"</span>\n",
       "</pre>\n"
      ],
      "text/plain": [
       "\u001b[1mModel: \"sequential\"\u001b[0m\n"
      ]
     },
     "metadata": {},
     "output_type": "display_data"
    },
    {
     "data": {
      "text/html": [
       "<pre style=\"white-space:pre;overflow-x:auto;line-height:normal;font-family:Menlo,'DejaVu Sans Mono',consolas,'Courier New',monospace\">┏━━━━━━━━━━━━━━━━━━━━━━━━━━━━━━━━━┳━━━━━━━━━━━━━━━━━━━━━━━━┳━━━━━━━━━━━━━━━┓\n",
       "┃<span style=\"font-weight: bold\"> Layer (type)                    </span>┃<span style=\"font-weight: bold\"> Output Shape           </span>┃<span style=\"font-weight: bold\">       Param # </span>┃\n",
       "┡━━━━━━━━━━━━━━━━━━━━━━━━━━━━━━━━━╇━━━━━━━━━━━━━━━━━━━━━━━━╇━━━━━━━━━━━━━━━┩\n",
       "│ embedding (<span style=\"color: #0087ff; text-decoration-color: #0087ff\">Embedding</span>)           │ (<span style=\"color: #00af00; text-decoration-color: #00af00\">25000</span>, <span style=\"color: #00af00; text-decoration-color: #00af00\">500</span>, <span style=\"color: #00af00; text-decoration-color: #00af00\">128</span>)      │     <span style=\"color: #00af00; text-decoration-color: #00af00\">1,280,000</span> │\n",
       "├─────────────────────────────────┼────────────────────────┼───────────────┤\n",
       "│ simple_rnn (<span style=\"color: #0087ff; text-decoration-color: #0087ff\">SimpleRNN</span>)          │ (<span style=\"color: #00af00; text-decoration-color: #00af00\">25000</span>, <span style=\"color: #00af00; text-decoration-color: #00af00\">64</span>)            │        <span style=\"color: #00af00; text-decoration-color: #00af00\">12,352</span> │\n",
       "├─────────────────────────────────┼────────────────────────┼───────────────┤\n",
       "│ dense (<span style=\"color: #0087ff; text-decoration-color: #0087ff\">Dense</span>)                   │ (<span style=\"color: #00af00; text-decoration-color: #00af00\">25000</span>, <span style=\"color: #00af00; text-decoration-color: #00af00\">1</span>)             │            <span style=\"color: #00af00; text-decoration-color: #00af00\">65</span> │\n",
       "└─────────────────────────────────┴────────────────────────┴───────────────┘\n",
       "</pre>\n"
      ],
      "text/plain": [
       "┏━━━━━━━━━━━━━━━━━━━━━━━━━━━━━━━━━┳━━━━━━━━━━━━━━━━━━━━━━━━┳━━━━━━━━━━━━━━━┓\n",
       "┃\u001b[1m \u001b[0m\u001b[1mLayer (type)                   \u001b[0m\u001b[1m \u001b[0m┃\u001b[1m \u001b[0m\u001b[1mOutput Shape          \u001b[0m\u001b[1m \u001b[0m┃\u001b[1m \u001b[0m\u001b[1m      Param #\u001b[0m\u001b[1m \u001b[0m┃\n",
       "┡━━━━━━━━━━━━━━━━━━━━━━━━━━━━━━━━━╇━━━━━━━━━━━━━━━━━━━━━━━━╇━━━━━━━━━━━━━━━┩\n",
       "│ embedding (\u001b[38;5;33mEmbedding\u001b[0m)           │ (\u001b[38;5;34m25000\u001b[0m, \u001b[38;5;34m500\u001b[0m, \u001b[38;5;34m128\u001b[0m)      │     \u001b[38;5;34m1,280,000\u001b[0m │\n",
       "├─────────────────────────────────┼────────────────────────┼───────────────┤\n",
       "│ simple_rnn (\u001b[38;5;33mSimpleRNN\u001b[0m)          │ (\u001b[38;5;34m25000\u001b[0m, \u001b[38;5;34m64\u001b[0m)            │        \u001b[38;5;34m12,352\u001b[0m │\n",
       "├─────────────────────────────────┼────────────────────────┼───────────────┤\n",
       "│ dense (\u001b[38;5;33mDense\u001b[0m)                   │ (\u001b[38;5;34m25000\u001b[0m, \u001b[38;5;34m1\u001b[0m)             │            \u001b[38;5;34m65\u001b[0m │\n",
       "└─────────────────────────────────┴────────────────────────┴───────────────┘\n"
      ]
     },
     "metadata": {},
     "output_type": "display_data"
    },
    {
     "data": {
      "text/html": [
       "<pre style=\"white-space:pre;overflow-x:auto;line-height:normal;font-family:Menlo,'DejaVu Sans Mono',consolas,'Courier New',monospace\"><span style=\"font-weight: bold\"> Total params: </span><span style=\"color: #00af00; text-decoration-color: #00af00\">1,292,417</span> (4.93 MB)\n",
       "</pre>\n"
      ],
      "text/plain": [
       "\u001b[1m Total params: \u001b[0m\u001b[38;5;34m1,292,417\u001b[0m (4.93 MB)\n"
      ]
     },
     "metadata": {},
     "output_type": "display_data"
    },
    {
     "data": {
      "text/html": [
       "<pre style=\"white-space:pre;overflow-x:auto;line-height:normal;font-family:Menlo,'DejaVu Sans Mono',consolas,'Courier New',monospace\"><span style=\"font-weight: bold\"> Trainable params: </span><span style=\"color: #00af00; text-decoration-color: #00af00\">1,292,417</span> (4.93 MB)\n",
       "</pre>\n"
      ],
      "text/plain": [
       "\u001b[1m Trainable params: \u001b[0m\u001b[38;5;34m1,292,417\u001b[0m (4.93 MB)\n"
      ]
     },
     "metadata": {},
     "output_type": "display_data"
    },
    {
     "data": {
      "text/html": [
       "<pre style=\"white-space:pre;overflow-x:auto;line-height:normal;font-family:Menlo,'DejaVu Sans Mono',consolas,'Courier New',monospace\"><span style=\"font-weight: bold\"> Non-trainable params: </span><span style=\"color: #00af00; text-decoration-color: #00af00\">0</span> (0.00 B)\n",
       "</pre>\n"
      ],
      "text/plain": [
       "\u001b[1m Non-trainable params: \u001b[0m\u001b[38;5;34m0\u001b[0m (0.00 B)\n"
      ]
     },
     "metadata": {},
     "output_type": "display_data"
    }
   ],
   "source": [
    "model.summary()"
   ]
  },
  {
   "cell_type": "code",
   "execution_count": 6,
   "metadata": {},
   "outputs": [
    {
     "data": {
      "text/plain": [
       "<bound method Layer.get_weights of <Sequential name=sequential, built=True>>"
      ]
     },
     "execution_count": 6,
     "metadata": {},
     "output_type": "execute_result"
    }
   ],
   "source": [
    "model.get_weights"
   ]
  },
  {
   "cell_type": "code",
   "execution_count": 7,
   "metadata": {},
   "outputs": [
    {
     "data": {
      "text/plain": [
       "[array([[ 7.5187999e-01,  1.2632994e-01,  3.7800434e-01, ...,\n",
       "          5.8176517e-01, -8.6369365e-01,  1.4345272e-01],\n",
       "        [-2.4401404e-02,  1.0648730e-02,  8.7041259e-02, ...,\n",
       "          3.3368636e-02,  1.0191772e-02, -6.8551630e-02],\n",
       "        [ 8.2375929e-02, -1.7698759e-02,  9.6604802e-02, ...,\n",
       "          1.9501485e-01, -1.6772132e-01, -1.5704919e-02],\n",
       "        ...,\n",
       "        [-5.6406084e-02, -9.2611291e-02,  3.0421244e-02, ...,\n",
       "         -5.8297236e-02, -1.1493929e-02,  1.0536529e-02],\n",
       "        [-1.6296538e-02,  2.3462979e-02, -4.3001943e-04, ...,\n",
       "         -5.9966784e-02,  2.3509396e-02, -4.1262698e-03],\n",
       "        [ 9.6378559e-03, -6.1493427e-02,  5.9789561e-02, ...,\n",
       "         -2.7556427e-02,  8.4356710e-02,  4.6522968e-02]], dtype=float32),\n",
       " array([[ 0.07024076,  0.04318406,  0.09974036, ...,  0.10006838,\n",
       "          0.11424255,  0.09895606],\n",
       "        [-0.00133151,  0.04517965,  0.02159533, ..., -0.17600219,\n",
       "         -0.14104956, -0.08892668],\n",
       "        [ 0.05788972, -0.04192043, -0.09454692, ...,  0.00346325,\n",
       "         -0.0223545 , -0.21821274],\n",
       "        ...,\n",
       "        [-0.00256158, -0.09331155,  0.09454646, ..., -0.03485056,\n",
       "          0.04150846,  0.05179391],\n",
       "        [ 0.00202282, -0.01495631,  0.10973404, ...,  0.13644777,\n",
       "         -0.06443276,  0.00357442],\n",
       "        [ 0.01182809, -0.18260446, -0.09449212, ..., -0.11434586,\n",
       "         -0.07422271, -0.07266128]], dtype=float32),\n",
       " array([[-0.25584474,  0.0014014 , -0.08783329, ..., -0.03700965,\n",
       "         -0.01216892,  0.08033225],\n",
       "        [ 0.03073559, -0.30442306, -0.06232537, ...,  0.03222663,\n",
       "         -0.03416132,  0.10053471],\n",
       "        [ 0.07617511, -0.08524533, -0.06753968, ..., -0.10620053,\n",
       "          0.04128879, -0.2775436 ],\n",
       "        ...,\n",
       "        [-0.00739019, -0.12478848,  0.21373239, ...,  0.05894946,\n",
       "         -0.14336842,  0.11606193],\n",
       "        [-0.06597601, -0.01161493,  0.00309732, ..., -0.09796549,\n",
       "         -0.12325456, -0.15071195],\n",
       "        [ 0.03271143,  0.09174015, -0.17550145, ..., -0.21534078,\n",
       "         -0.18824747,  0.04410192]], dtype=float32),\n",
       " array([ 0.03378272, -0.03946316,  0.00084801,  0.00347391,  0.01369912,\n",
       "        -0.03323031, -0.01043965, -0.02825942, -0.00814235, -0.016619  ,\n",
       "        -0.02489674,  0.01440069,  0.03155339, -0.03490136, -0.01884598,\n",
       "         0.01755932,  0.0068266 , -0.03121975, -0.00530829,  0.0470839 ,\n",
       "        -0.01470886, -0.03149853,  0.02919176, -0.03451841,  0.02651926,\n",
       "         0.01496202,  0.05493173, -0.03294514, -0.03646373, -0.03314247,\n",
       "         0.01461522, -0.02642507, -0.02617127, -0.03873938,  0.03703118,\n",
       "        -0.01499841,  0.03818842, -0.02962843,  0.04766885,  0.03589315,\n",
       "        -0.04439553, -0.03313144,  0.01777436, -0.02763728, -0.02711477,\n",
       "         0.00093825,  0.04092428,  0.03681938, -0.05247456, -0.01981793,\n",
       "        -0.03291599,  0.01883772,  0.01963304,  0.03336407, -0.02533936,\n",
       "        -0.04226124,  0.02377338, -0.02484772,  0.00788283, -0.04039339,\n",
       "         0.02401988, -0.02715451,  0.00064925, -0.02753858], dtype=float32),\n",
       " array([[-1.84929192e-01],\n",
       "        [ 4.31999011e-04],\n",
       "        [ 5.98612567e-03],\n",
       "        [-1.62534013e-01],\n",
       "        [ 2.32388005e-02],\n",
       "        [-7.30882734e-02],\n",
       "        [ 2.06189424e-01],\n",
       "        [ 1.30932346e-01],\n",
       "        [ 1.89950690e-01],\n",
       "        [-2.81362534e-01],\n",
       "        [ 2.70050824e-01],\n",
       "        [ 2.85054415e-01],\n",
       "        [-9.27883834e-02],\n",
       "        [-1.83152854e-02],\n",
       "        [ 2.86104470e-01],\n",
       "        [ 4.88413498e-02],\n",
       "        [-3.11218053e-01],\n",
       "        [-1.50339276e-01],\n",
       "        [-2.67450005e-01],\n",
       "        [-2.09711939e-01],\n",
       "        [ 1.90914586e-01],\n",
       "        [-2.93156683e-01],\n",
       "        [ 2.66919215e-03],\n",
       "        [-1.62112385e-01],\n",
       "        [-6.71722516e-02],\n",
       "        [ 1.29068136e-01],\n",
       "        [ 1.13888271e-01],\n",
       "        [-5.87982349e-02],\n",
       "        [-2.01386929e-01],\n",
       "        [ 7.81928375e-03],\n",
       "        [ 2.82720238e-01],\n",
       "        [ 2.49406934e-01],\n",
       "        [ 2.13734910e-01],\n",
       "        [ 6.50855303e-02],\n",
       "        [ 1.18969925e-01],\n",
       "        [ 2.89769143e-01],\n",
       "        [-2.71510072e-02],\n",
       "        [-2.38971055e-01],\n",
       "        [-3.01179290e-01],\n",
       "        [ 2.87406713e-01],\n",
       "        [-1.96013451e-02],\n",
       "        [ 4.53500748e-01],\n",
       "        [-2.90639341e-01],\n",
       "        [-1.26058817e-01],\n",
       "        [ 1.11023068e-01],\n",
       "        [ 4.54544872e-02],\n",
       "        [ 2.78708309e-01],\n",
       "        [ 1.44081891e-01],\n",
       "        [-2.58568853e-01],\n",
       "        [ 1.93055764e-01],\n",
       "        [ 2.31953189e-01],\n",
       "        [ 3.63337211e-02],\n",
       "        [-1.07390285e-01],\n",
       "        [-5.39573245e-02],\n",
       "        [ 2.00040583e-02],\n",
       "        [ 2.88310677e-01],\n",
       "        [ 7.50735924e-02],\n",
       "        [-8.79809335e-02],\n",
       "        [ 4.84331161e-01],\n",
       "        [ 2.12289706e-01],\n",
       "        [-1.15232199e-01],\n",
       "        [ 1.03429951e-01],\n",
       "        [ 1.08202212e-02],\n",
       "        [-1.50267243e-01]], dtype=float32),\n",
       " array([0.07877991], dtype=float32)]"
      ]
     },
     "execution_count": 7,
     "metadata": {},
     "output_type": "execute_result"
    }
   ],
   "source": [
    "model.get_weights()"
   ]
  },
  {
   "cell_type": "code",
   "execution_count": 8,
   "metadata": {},
   "outputs": [],
   "source": [
    "# helper function \n",
    "# function to decode reviews\n",
    "def decode_review(encoded_review):\n",
    "    return \" \".join([reverse_word_index.get(i-3,\"?\") for i in encoded_review])\n",
    "\n",
    "# function to preprocess user input \n",
    "def preprocess_text(text):\n",
    "    words = text.lower().split()\n",
    "    encoded_review = [ word_index.get(word,2) + 3 for word in words]\n",
    "    padded_review = sequence.pad_sequences([encoded_review],maxlen=500)\n",
    "    return padded_review"
   ]
  },
  {
   "cell_type": "code",
   "execution_count": 9,
   "metadata": {},
   "outputs": [],
   "source": [
    "### prediction function \n",
    "def predict_sentiment(review):\n",
    "    preprocessed_input = preprocess_text(review)\n",
    "    predicted = model.predict(preprocessed_input)\n",
    "\n",
    "    sentiment = \"positive\" if predicted[0][0] > 0.5 else \"Nagative\" \n",
    "    return sentiment,predicted[0][0]   "
   ]
  },
  {
   "cell_type": "code",
   "execution_count": 18,
   "metadata": {},
   "outputs": [],
   "source": [
    "example_review  = \"this movie well showed actors performed well enough, its was great thiller.\""
   ]
  },
  {
   "cell_type": "code",
   "execution_count": 19,
   "metadata": {},
   "outputs": [
    {
     "name": "stdout",
     "output_type": "stream",
     "text": [
      "\u001b[1m1/1\u001b[0m \u001b[32m━━━━━━━━━━━━━━━━━━━━\u001b[0m\u001b[37m\u001b[0m \u001b[1m0s\u001b[0m 45ms/step\n",
      "Review: this movie well showed actors performed well enough, its was great thiller.\n",
      "Sentiment:positive\n",
      "Predition Score: 0.6290781497955322\n"
     ]
    }
   ],
   "source": [
    "sentiment,score = predict_sentiment(example_review)\n",
    "print(f\"Review: {example_review}\")\n",
    "print(f\"Sentiment:{sentiment}\")\n",
    "print(f\"Predition Score: {score}\") "
   ]
  },
  {
   "cell_type": "code",
   "execution_count": null,
   "metadata": {},
   "outputs": [],
   "source": []
  }
 ],
 "metadata": {
  "kernelspec": {
   "display_name": "envvv",
   "language": "python",
   "name": "python3"
  },
  "language_info": {
   "codemirror_mode": {
    "name": "ipython",
    "version": 3
   },
   "file_extension": ".py",
   "mimetype": "text/x-python",
   "name": "python",
   "nbconvert_exporter": "python",
   "pygments_lexer": "ipython3",
   "version": "3.12.6"
  }
 },
 "nbformat": 4,
 "nbformat_minor": 2
}
